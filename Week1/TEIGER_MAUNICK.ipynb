{
 "cells": [
  {
   "cell_type": "markdown",
   "metadata": {},
   "source": [
    "# Assignment 1"
   ]
  },
  {
   "cell_type": "markdown",
   "metadata": {},
   "source": [
    "You are given the following int variable _x1_"
   ]
  },
  {
   "cell_type": "code",
   "execution_count": null,
   "metadata": {},
   "outputs": [],
   "source": [
    "x1 = 3286\n",
    "x1"
   ]
  },
  {
   "cell_type": "markdown",
   "metadata": {},
   "source": [
    "**1**- Complete the code below to transform _x1_ into a string *x1_str*. Extract the four digits and compute *x1_reverse* by taking the digits of _x1_ backward. *x1_reverse* should be an **integer** equal to 6823\n"
   ]
  },
  {
   "cell_type": "code",
   "execution_count": null,
   "metadata": {},
   "outputs": [],
   "source": [
    "x1_str  = str(x1)\n",
    "digit_1 = x1_str[0]\n",
    "digit_2 = x1_str[1]\n",
    "digit_3 = x1_str[2]\n",
    "digit_4 = x1_str[3]\n",
    "\n",
    "x1_reverse = int(digit_4+digit_3+digit_2+digit_1)\n",
    "\n",
    "print(\"first digit = %s, second = %s, third = %s, fourth = %s\" % (digit_1, digit_2, digit_3, digit_4))\n",
    "print(\"the reverse number of x1 =\", x1_reverse)"
   ]
  },
  {
   "cell_type": "markdown",
   "metadata": {},
   "source": [
    "**2**- Write a function that takes as input a number with any given length and returns its reversed one.     \n",
    "For example: `reverse_number(274) = 472, reverse_number(15739) = 93751`.   \n",
    "**Hint** You can use negative indexing. For example: `\"ABCD\"[-1] = D`"
   ]
  },
  {
   "cell_type": "code",
   "execution_count": null,
   "metadata": {},
   "outputs": [],
   "source": [
    "def reverse_number(x):\n",
    "    i = 1\n",
    "    x_str = str(x)\n",
    "    y=\"\"\n",
    "    \n",
    "    while i <= len(x_str):\n",
    "        y += x_str[-i]\n",
    "        i += 1\n",
    "    return int(y)\n",
    "\n",
    "print(reverse_number(472))\n",
    "print(reverse_number(15739))"
   ]
  },
  {
   "cell_type": "markdown",
   "metadata": {},
   "source": [
    "A **palindromic** number or numeral palindrome is a number that remains the same when its digits are reversed, like 16461. See [wikipedia](https://en.wikipedia.org/wiki/Palindromic_number)      \n",
    "**3**- Write a function that returns _True_ when a number is palindromic and _False_ when not"
   ]
  },
  {
   "cell_type": "code",
   "execution_count": null,
   "metadata": {},
   "outputs": [],
   "source": [
    "def is_palindromic(x):    \n",
    "    if reverse_number(x) == x:\n",
    "        return True\n",
    "    else:\n",
    "        return False\n",
    "\n",
    "is_palindromic(16461)"
   ]
  },
  {
   "cell_type": "markdown",
   "metadata": {},
   "source": [
    "**4**- Create a dictionary containing two keys:\n",
    "* number: numbers between 10 and 99\n",
    "* palindromic ?: a Boolean whether or not the number is palindromic or not\n",
    "\n",
    "It should look like this: `dic = {'number': [10,11,12 ...], 'palindromic ?':[False,True,False,....]}`"
   ]
  },
  {
   "cell_type": "code",
   "execution_count": null,
   "metadata": {},
   "outputs": [],
   "source": [
    "values=[]\n",
    "palindromes=[]\n",
    "\n",
    "for i in range(10,100):\n",
    "    values.append(i)\n",
    "    palindromes.append(is_palindromic(values[i-10]))\n",
    "\n",
    "\n",
    "dic={'number':values, 'palindromic ?':palindromes}\n",
    "print(dic)"
   ]
  },
  {
   "cell_type": "markdown",
   "metadata": {},
   "source": [
    "**5**- Create a dataframe _df_ from _dic_ and print the head of _df_, its shape, and the data type of each column"
   ]
  },
  {
   "cell_type": "code",
   "execution_count": null,
   "metadata": {
    "scrolled": true
   },
   "outputs": [],
   "source": [
    "# your code here\n",
    "import pandas as pd\n",
    "\n",
    "df = pd.DataFrame(dic)\n",
    "# head of df\n",
    "df.head()"
   ]
  },
  {
   "cell_type": "code",
   "execution_count": null,
   "metadata": {},
   "outputs": [],
   "source": [
    "# shape of df\n",
    "# your code here\n",
    "print(df.shape)"
   ]
  },
  {
   "cell_type": "code",
   "execution_count": null,
   "metadata": {},
   "outputs": [],
   "source": [
    "# data type of each column\n",
    "\n",
    "print(df.dtypes)\n",
    "# your code here"
   ]
  },
  {
   "cell_type": "markdown",
   "metadata": {},
   "source": [
    "**6**- How many palindromic numbers are there in _df_. **Hint**: Booleans are considered as 0, 1. For example: `sum([True, False, True]) = 2`.   \n",
    "Filter _df_ to print only rows with palindromic numbers.   "
   ]
  },
  {
   "cell_type": "code",
   "execution_count": null,
   "metadata": {},
   "outputs": [],
   "source": [
    "print(\"Number of palindromes : %i\" %sum(df[\"palindromic ?\"]))\n",
    "\n",
    "df[df[\"palindromic ?\"]==True]"
   ]
  },
  {
   "cell_type": "markdown",
   "metadata": {},
   "source": [
    "A [nontrivial reverse number](https://en.wikipedia.org/wiki/Reverse_divisible_number) is a either 1/4 or 1/9 of its reversal.     \n",
    "For example: 1089 × 9 = 9801, the reversal of 1089.    \n",
    "**7**- Write a function that checks whether a number is a nontrivial reverse number. The response for the following three tests should be `True`, `False`, `False`.     \n",
    "Use your function to identify all the nontrivial reverse numbers that are below 100 000. **Hint**: there are four"
   ]
  },
  {
   "cell_type": "code",
   "execution_count": null,
   "metadata": {},
   "outputs": [],
   "source": [
    "def is_nontrivial_reverse_number(x):\n",
    "    if (reverse_number(x)/9 == x) | (reverse_number(x)/4 == x):\n",
    "        return True\n",
    "    else:\n",
    "        return False\n",
    "\n",
    "print(is_nontrivial_reverse_number(1089))\n",
    "print(is_nontrivial_reverse_number(2000))\n",
    "print(is_nontrivial_reverse_number(7887))"
   ]
  },
  {
   "cell_type": "code",
   "execution_count": null,
   "metadata": {},
   "outputs": [],
   "source": [
    "# nontrivial reverse numbers below 100 000\n",
    "for i in range(0,100000):\n",
    "    if is_nontrivial_reverse_number(i):\n",
    "        print(str(i) +\" is a nontrivial reverse number\")\n",
    "        "
   ]
  },
  {
   "cell_type": "markdown",
   "metadata": {},
   "source": [
    "**8**- Read the csv file _\"titanic.csv\"_ into a dataframe _titanic_. Print its shape and head"
   ]
  },
  {
   "cell_type": "code",
   "execution_count": null,
   "metadata": {
    "scrolled": true
   },
   "outputs": [],
   "source": [
    "titanic = pd.read_csv('titanic.csv') \n",
    "print(titanic.shape)\n",
    "titanic.head(5)"
   ]
  },
  {
   "cell_type": "markdown",
   "metadata": {},
   "source": [
    "**9**- Print the names of titanic columns. Remove the column _\"Cabin\"_ and print again the names of titanic columns"
   ]
  },
  {
   "cell_type": "code",
   "execution_count": null,
   "metadata": {},
   "outputs": [],
   "source": [
    "# print column names\n",
    "print(titanic.columns)\n",
    "\n",
    "# drop the column : \"Cabin\n",
    "titanic.drop(columns=['Cabin'], inplace=True)\n",
    "\n",
    "list(titanic)"
   ]
  },
  {
   "cell_type": "markdown",
   "metadata": {},
   "source": [
    "**10**- Print the number of null values for each column. Replace null values in _\"Age\"_ by the average age, and null values in _\"Embarked\"_ by the most frequent value _\"S\"_. Print again the number of null values for each column"
   ]
  },
  {
   "cell_type": "code",
   "execution_count": null,
   "metadata": {},
   "outputs": [],
   "source": [
    "titanic.isna().sum()"
   ]
  },
  {
   "cell_type": "code",
   "execution_count": null,
   "metadata": {},
   "outputs": [],
   "source": [
    "# Replace null values\n",
    "titanic[\"Age\"].fillna(titanic.loc[:,\"Age\"].mean(), inplace = True) \n",
    "titanic[\"Embarked\"].fillna(\"S\", inplace = True) "
   ]
  },
  {
   "cell_type": "code",
   "execution_count": null,
   "metadata": {},
   "outputs": [],
   "source": [
    "# print again number of null values for each column\n",
    "titanic.isna().sum()"
   ]
  },
  {
   "cell_type": "code",
   "execution_count": null,
   "metadata": {},
   "outputs": [],
   "source": []
  }
 ],
 "metadata": {
  "anaconda-cloud": {},
  "kernelspec": {
   "display_name": "Python 3",
   "language": "python",
   "name": "python3"
  },
  "language_info": {
   "codemirror_mode": {
    "name": "ipython",
    "version": 3
   },
   "file_extension": ".py",
   "mimetype": "text/x-python",
   "name": "python",
   "nbconvert_exporter": "python",
   "pygments_lexer": "ipython3",
   "version": "3.7.1"
  }
 },
 "nbformat": 4,
 "nbformat_minor": 1
}
